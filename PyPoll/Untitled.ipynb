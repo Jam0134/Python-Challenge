{
 "cells": [
  {
   "cell_type": "code",
   "execution_count": 1,
   "metadata": {},
   "outputs": [],
   "source": [
    "import pandas as pd"
   ]
  },
  {
   "cell_type": "code",
   "execution_count": 2,
   "metadata": {},
   "outputs": [
    {
     "name": "stdout",
     "output_type": "stream",
     "text": [
      "<_csv.reader object at 0x000002A66DDAA7C0>\n"
     ]
    }
   ],
   "source": [
    "import os\n",
    "import csv\n",
    "\n",
    "# Specify the file to write to\n",
    "#output_path = os.path.join(  \"Resources\", \"election_data.csv\")\n",
    "total_votes = 0.0\n",
    "candidates_received_votes =[]\n",
    "Percent_each_won = 0.0\n",
    "total_votes_each_won = 0.0\n",
    "winner = \"\"\n",
    "\n",
    "\n",
    "\n",
    "# Open the file using mode. Specify the variable to hold the contents\n",
    "with open(\"election_data.csv\") as election_hw:\n",
    "\n",
    "    # Initialize csv.reader \n",
    "    csvreader = csv.reader(election_hw, delimiter=',')\n",
    "\n",
    "    print(csvreader)\n",
    "\n",
    "    header = next(csvreader)\n",
    "\n",
    "    #The total number of votes cast\n",
    "    for row in csvreader:\n",
    "        total_votes=total_votes+1 \n",
    "        candidates_received_votes\n"
   ]
  },
  {
   "cell_type": "code",
   "execution_count": 6,
   "metadata": {},
   "outputs": [
    {
     "ename": "IndentationError",
     "evalue": "unexpected indent (<ipython-input-6-957cd385d108>, line 3)",
     "output_type": "error",
     "traceback": [
      "\u001b[1;36m  File \u001b[1;32m\"<ipython-input-6-957cd385d108>\"\u001b[1;36m, line \u001b[1;32m3\u001b[0m\n\u001b[1;33m    print(\"total_votes\", total_votes)\u001b[0m\n\u001b[1;37m    ^\u001b[0m\n\u001b[1;31mIndentationError\u001b[0m\u001b[1;31m:\u001b[0m unexpected indent\n"
     ]
    }
   ],
   "source": [
    "\n",
    "# Print totals\n",
    "\n",
    "    print(\"total_votes\", total_votes)\n",
    "    #print(\"candidates_received_votes\",candidates_received_votes)\n",
    "    print(\"Percent_each_won\")\n",
    "    print(\"total_votes_each_won\")\n",
    "    print(\"winner\")"
   ]
  },
  {
   "cell_type": "code",
   "execution_count": null,
   "metadata": {},
   "outputs": [],
   "source": []
  }
 ],
 "metadata": {
  "kernelspec": {
   "display_name": "Python 3",
   "language": "python",
   "name": "python3"
  },
  "language_info": {
   "codemirror_mode": {
    "name": "ipython",
    "version": 3
   },
   "file_extension": ".py",
   "mimetype": "text/x-python",
   "name": "python",
   "nbconvert_exporter": "python",
   "pygments_lexer": "ipython3",
   "version": "3.8.3"
  }
 },
 "nbformat": 4,
 "nbformat_minor": 4
}
